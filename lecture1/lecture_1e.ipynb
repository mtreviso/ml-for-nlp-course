{
 "cells": [
  {
   "cell_type": "markdown",
   "id": "f63c2434",
   "metadata": {
    "slideshow": {
     "slide_type": "-"
    }
   },
   "source": [
    "<font size=\"6\"><b>[ML for NLP] Lecture 1D: Recap of Optimization</b></font>\n",
    "\n",
    "This notebook consists of a very brief introduction to the key concepts of optimization. There are many more content in this complex yet fundamental field. Here are the main parts covered here:\n",
    "\n",
    "1. [Introduction to Probability Theory](#Introduction-to-Probability-Theory)\n",
    "    1. Sample space, Events, Axioms, Conditionals, Independence\n",
    "\n",
    "2. [Exploring Probability Theory using Real Data](#Exploring-probability-theory-using-real-data)\n",
    "3. [Random Variables](#Random-Variables)\n",
    "\t1. Discrete RVs, Continuous RVs, Two RVs, Independence\n",
    "4. [Summary Statistics](#Summary-Statistics)\n",
    "\t1. Quantiles, Expected value, Variance, Mode\n",
    "5. [Bayes Rule](#Bayes'-Rule)\n",
    "6. [Important Discrete RVs](#Important-Discrete-Random-Variables)\n",
    "7. [Important Continuous RVs](#Important-Continuous-Random-Variables)\n",
    "8. [Joint Distributions for multiple RVs](#Joint-distributions-for-multiple-RVs)\n",
    "\t1. Covariance, Correlation\n",
    "9. [Multivariate Normal Distribution](#The-multivariate-Gaussian-(normal)-distribution)\n",
    "10. [Information Theory](#Information-Theory)\n",
    "\t1. Entropy, Cross-entropy, Perplexity, KL-divergence, Mutual Information\n"
   ]
  },
  {
   "cell_type": "markdown",
   "id": "57d67989",
   "metadata": {},
   "source": [
    "---\n",
    "\n",
    "> Acknowledgments: This lecture is highly based on:\n",
    "> - Introduction to Probability (2008) by Dimitri Bertsekas and John Tsitsiklis\n",
    "> - Probabilistic Machine Learning: An Introduction (2021) by Kevin Murphy\n",
    "> - Lecture slides of the last LxMLS (http://lxmls.it.pt/), which were kindly provided by André Martins and Mário Figueiredo\n",
    "\n",
    "> _Disclaimer:_ <br>\n",
    "> Overall, data visualization is a must have tool in the arsenal of any data scientist. Througout this notebook, we will use both `matplotlib` and `seaborn` ([see docs](http://seaborn.pydata.org/)) to plot our data. Seaborn has the advantage of being specific tailored for data science. Moreover, it is actually built on top of matplotlib, so everything we learned so far is still applicable, even though the API changes a little. I strongly recommend you to learn both libs :-). \n",
    "\n",
    "$\\newcommand{\\Prob}{\\mathbb{P}}$\n",
    "$\\newcommand{\\Expec}{\\mathbb{E}}$\n",
    "$\\newcommand{\\Var}{\\mathbb{V}}$"
   ]
  },
  {
   "cell_type": "markdown",
   "id": "b8975d21",
   "metadata": {},
   "source": [
    "### Base MathJax\n",
    "$\\newcommand{\\bm}[1]{{\\boldsymbol{{#1}}}}$\n",
    "$\\DeclareMathOperator{\\argmin}{argmin}$\n",
    "$\\DeclareMathOperator{\\argmax}{argmax}$"
   ]
  },
  {
   "cell_type": "markdown",
   "id": "afe082b8",
   "metadata": {},
   "source": [
    "### imports"
   ]
  },
  {
   "cell_type": "code",
   "execution_count": 8,
   "id": "df7aebc0",
   "metadata": {},
   "outputs": [],
   "source": [
    "# imports\n",
    "import numpy as np\n",
    "from matplotlib import pyplot as plt\n",
    "import seaborn as sns\n",
    "import pandas as pd\n",
    "\n",
    "# define options for seaborn\n",
    "custom_params = {\"axes.spines.right\": False, \"axes.spines.top\": False, \n",
    "                 \"grid.color\": \".85\", \"grid.linestyle\": \":\"}\n",
    "sns.set_theme(style=\"whitegrid\", rc=custom_params)"
   ]
  },
  {
   "cell_type": "markdown",
   "id": "497351ed",
   "metadata": {},
   "source": [
    "### css"
   ]
  },
  {
   "cell_type": "code",
   "execution_count": 2,
   "id": "0e38f7df",
   "metadata": {},
   "outputs": [
    {
     "data": {
      "text/html": [
       "<style>\n",
       ".text-center{\n",
       "    text-align: center;\n",
       "}\n",
       ".emphasis{\n",
       "    font-size: 110%;\n",
       "}\n",
       ".visible{\n",
       "    opacity: 1 !important;\n",
       "}\n",
       ".imgs{\n",
       "    margin: 0px 10px;\n",
       "}\n",
       ".blue-box{\n",
       "    text-align: left;\n",
       "    color: black;\n",
       "    padding: 10px 25px;\n",
       "    background-color: #dbe7ff;\n",
       "    border: 1px dashed #999;\n",
       "    margin: 10px 0px;\n",
       "    display: inline-block;\n",
       "    clear: both;\n",
       "    opacity: 0.2;\n",
       "}\n",
       ".red-box{\n",
       "    text-align: left;\n",
       "    color: black;\n",
       "    padding: 10px 25px;\n",
       "    background-color: #e6d5d5;\n",
       "    border: 1px dashed #999;\n",
       "    margin: 10px 0px;\n",
       "    display: inline-block;\n",
       "    clear: both;\n",
       "    opacity: 0.2;\n",
       "}\n",
       ".green-box{\n",
       "    text-align: left;\n",
       "    color: black;\n",
       "    padding: 10px 25px;\n",
       "    background-color: #d5e6d8;\n",
       "    border: 1px dashed #999;\n",
       "    margin: 10px 0px;\n",
       "    display: inline-block;\n",
       "    clear: both;\n",
       "    opacity: 0.2;\n",
       "}\n",
       ".transparent-box{\n",
       "    text-align: left;\n",
       "    color: black;\n",
       "    padding: 10px 25px;\n",
       "    margin: 10px 0px;\n",
       "    display: inline-block;\n",
       "}\n",
       ".blue-box:hover{\n",
       "    opacity: 1.0;\n",
       "}\n",
       ".red-box:hover{\n",
       "    opacity: 1.0;\n",
       "}\n",
       ".green-box:hover{\n",
       "    opacity: 1.0;\n",
       "}\n",
       ".float-right{\n",
       "    float: right;\n",
       "}\n",
       ".float-left{\n",
       "    float: left;\n",
       "}\n",
       ".margin-left-20{\n",
       "    margin-left: 20px;\n",
       "}\n",
       ".margin-left-50{\n",
       "    margin-left: 50px;\n",
       "}\n",
       ".margin-left-100{\n",
       "    margin-left: 100px;\n",
       "}\n",
       ".clear{\n",
       "    clear: both;\n",
       "}\n",
       ".ex-table{\n",
       "  border: 1px solid black;\n",
       "  border-collapse: collapse;\n",
       "}\n",
       ".ex-table th{\n",
       "    border: 1px solid black;\n",
       "    border-collapse: collapse;\n",
       "}\n",
       ".ex-table td{\n",
       "    border: 1px solid black;\n",
       "    border-collapse: collapse;\n",
       "}\n",
       "\n",
       "</style>\n"
      ],
      "text/plain": [
       "<IPython.core.display.HTML object>"
      ]
     },
     "metadata": {},
     "output_type": "display_data"
    }
   ],
   "source": [
    "%%html\n",
    "<style>\n",
    ".text-center{\n",
    "    text-align: center;\n",
    "}\n",
    ".emphasis{\n",
    "    font-size: 110%;\n",
    "}\n",
    ".visible{\n",
    "    opacity: 1 !important;\n",
    "}\n",
    ".imgs{\n",
    "    margin: 0px 10px;\n",
    "}\n",
    ".blue-box{\n",
    "    text-align: left;\n",
    "    color: black;\n",
    "    padding: 10px 25px;\n",
    "    background-color: #dbe7ff;\n",
    "    border: 1px dashed #999;\n",
    "    margin: 10px 0px;\n",
    "    display: inline-block;\n",
    "    clear: both;\n",
    "    opacity: 0.2;\n",
    "}\n",
    ".red-box{\n",
    "    text-align: left;\n",
    "    color: black;\n",
    "    padding: 10px 25px;\n",
    "    background-color: #e6d5d5;\n",
    "    border: 1px dashed #999;\n",
    "    margin: 10px 0px;\n",
    "    display: inline-block;\n",
    "    clear: both;\n",
    "    opacity: 0.2;\n",
    "}\n",
    ".green-box{\n",
    "    text-align: left;\n",
    "    color: black;\n",
    "    padding: 10px 25px;\n",
    "    background-color: #d5e6d8;\n",
    "    border: 1px dashed #999;\n",
    "    margin: 10px 0px;\n",
    "    display: inline-block;\n",
    "    clear: both;\n",
    "    opacity: 0.2;\n",
    "}\n",
    ".transparent-box{\n",
    "    text-align: left;\n",
    "    color: black;\n",
    "    padding: 10px 25px;\n",
    "    margin: 10px 0px;\n",
    "    display: inline-block;\n",
    "}\n",
    ".blue-box:hover{\n",
    "    opacity: 1.0;\n",
    "}\n",
    ".red-box:hover{\n",
    "    opacity: 1.0;\n",
    "}\n",
    ".green-box:hover{\n",
    "    opacity: 1.0;\n",
    "}\n",
    ".float-right{\n",
    "    float: right;\n",
    "}\n",
    ".float-left{\n",
    "    float: left;\n",
    "}\n",
    ".margin-left-20{\n",
    "    margin-left: 20px;\n",
    "}\n",
    ".margin-left-50{\n",
    "    margin-left: 50px;\n",
    "}\n",
    ".margin-left-100{\n",
    "    margin-left: 100px;\n",
    "}\n",
    ".clear{\n",
    "    clear: both;\n",
    "}\n",
    ".ex-table{\n",
    "  border: 1px solid black;\n",
    "  border-collapse: collapse;\n",
    "}\n",
    ".ex-table th{\n",
    "    border: 1px solid black;\n",
    "    border-collapse: collapse;\n",
    "}\n",
    ".ex-table td{\n",
    "    border: 1px solid black;\n",
    "    border-collapse: collapse;\n",
    "}\n",
    "\n",
    "</style>"
   ]
  },
  {
   "cell_type": "markdown",
   "id": "52a6b336",
   "metadata": {},
   "source": [
    "### plot utils"
   ]
  },
  {
   "cell_type": "code",
   "execution_count": 9,
   "id": "6a9983e5",
   "metadata": {},
   "outputs": [],
   "source": [
    "def stylize_plot(ax, xlim=None, ylim=None, xticks=None, yticks=None):\n",
    "    # plot grid with 0.9 opacity on all x and y ticks\n",
    "    ax.grid(lw=0.9, linestyle=\":\", which='major')\n",
    "    # limit view from min(x) to max(x) on x-axis (similarly for y)\n",
    "    if xlim is not None:\n",
    "        ax.set_xlim(*xlim)\n",
    "    if ylim is not None:\n",
    "        ax.set_ylim(*ylim)\n",
    "    # add specific x, y ticks\n",
    "    if xticks is not None:\n",
    "        ax.set_xticks(xticks)\n",
    "    if yticks is not None:\n",
    "        ax.set_yticks(yticks)\n",
    "    # remove top and right spines\n",
    "    ax.spines['top'].set_color('none')\n",
    "    ax.spines['right'].set_color('none')\n",
    "    return ax\n"
   ]
  },
  {
   "cell_type": "markdown",
   "id": "ef7182fb",
   "metadata": {},
   "source": [
    "---\n",
    "# Minimizing a Function\n",
    "\n"
   ]
  },
  {
   "cell_type": "markdown",
   "id": "22548143",
   "metadata": {},
   "source": [
    "---\n",
    "# Convex Functions"
   ]
  },
  {
   "cell_type": "markdown",
   "id": "f077741e",
   "metadata": {},
   "source": [
    "---\n",
    "# Convexity and Minimization"
   ]
  },
  {
   "cell_type": "markdown",
   "id": "c1e82f21",
   "metadata": {},
   "source": [
    "---\n",
    "# Gradients"
   ]
  },
  {
   "cell_type": "markdown",
   "id": "1fca69ef",
   "metadata": {},
   "source": [
    "---\n",
    "# Hessians"
   ]
  },
  {
   "cell_type": "markdown",
   "id": "8758f5d2",
   "metadata": {},
   "source": [
    "---\n",
    "# Matrix Gradients"
   ]
  },
  {
   "cell_type": "markdown",
   "id": "3f1f96b4",
   "metadata": {},
   "source": [
    "---\n",
    "# Gradient Descent"
   ]
  },
  {
   "cell_type": "markdown",
   "id": "cc0a0e0c",
   "metadata": {},
   "source": [
    "---\n",
    "# Sthocastic Gradient Descent"
   ]
  }
 ],
 "metadata": {
  "kernelspec": {
   "display_name": "Python 3 (ipykernel)",
   "language": "python",
   "name": "python3"
  },
  "language_info": {
   "codemirror_mode": {
    "name": "ipython",
    "version": 3
   },
   "file_extension": ".py",
   "mimetype": "text/x-python",
   "name": "python",
   "nbconvert_exporter": "python",
   "pygments_lexer": "ipython3",
   "version": "3.9.7"
  }
 },
 "nbformat": 4,
 "nbformat_minor": 5
}
