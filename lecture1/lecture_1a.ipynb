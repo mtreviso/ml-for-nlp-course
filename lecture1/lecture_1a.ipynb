{
 "cells": [
  {
   "cell_type": "markdown",
   "id": "a3d9ef45",
   "metadata": {},
   "source": [
    "<font size=\"6\"><b>[ML for NLP] Lecture 1A</b></font>\n",
    "\n",
    "\n",
    "In the first lecture, we will use Python along with `numpy`, `scipy`, `matplotlib` to recap concepts of: Linear Algebra, Probability Theory, and Optimization\n",
    "\n",
    "This notebook will cover the computational background needeed for the rest of the course. Namely:\n",
    "1. [Introduction to Jupyter notebooks](#Introduction-to-Jupyter-Notebooks)\n",
    "2. [Introduction to Numpy](#Introduction-to-Numpy)\n",
    "3. [Introduction to Matplotlib](#Introduction-to-Matplotlib)"
   ]
  },
  {
   "cell_type": "markdown",
   "id": "35472ac1",
   "metadata": {},
   "source": [
    "---\n",
    "\n",
    "> Acknowledgments: <br>\n",
    "> This lecture is primarly based on the Deep Learning Course (2021) given at IST (ULisbon), which was kindly provided by André Martins."
   ]
  },
  {
   "cell_type": "markdown",
   "id": "c1006607",
   "metadata": {},
   "source": [
    "# Introduction to Jupyter Notebooks"
   ]
  },
  {
   "cell_type": "markdown",
   "id": "8ba6e400",
   "metadata": {},
   "source": [
    "A jupyter notebook document has the `.ipynb` extension and is composed of a number of cells. In cells, you can write program code in Python and create notes in markdown style. These three types of cells correspond to:\n",
    "    \n",
    "    1. code\n",
    "    2. markdown\n",
    "    3. raw"
   ]
  },
  {
   "cell_type": "markdown",
   "id": "eaf02752",
   "metadata": {},
   "source": [
    "To work with the contents of a cell, use *Edit mode* (turns on by pressing **Enter** after selecting a cell), and to navigate between cells, use *command mode* (turns on by pressing **Esc**).\n",
    "\n",
    "The cell type can be set in command mode either using hotkeys (**y** to code, **m** to markdown, **r** to edit raw text), or in the menu *Cell -> Cell type* ... "
   ]
  },
  {
   "cell_type": "markdown",
   "id": "84180820",
   "metadata": {},
   "source": [
    "**Word of caution**\n",
    "\n",
    "> Jupyter-notebook is a great tool for data science since we can see the direct effect of a snippet of code, either by plotting the result or by inspecting the direct output. However, we should be careful with the order in which we run cells (this is a common source of errors).\n"
   ]
  },
  {
   "cell_type": "markdown",
   "id": "fcc3caf3",
   "metadata": {},
   "source": [
    "### Example"
   ]
  },
  {
   "cell_type": "code",
   "execution_count": null,
   "id": "02792583",
   "metadata": {},
   "outputs": [],
   "source": [
    "# cell with code\n",
    "a = 1"
   ]
  },
  {
   "cell_type": "code",
   "execution_count": null,
   "id": "d45a5e3d",
   "metadata": {},
   "outputs": [],
   "source": [
    "a = 2"
   ]
  },
  {
   "cell_type": "code",
   "execution_count": null,
   "id": "98d2aa0f",
   "metadata": {},
   "outputs": [],
   "source": [
    "a\n",
    "print(a)"
   ]
  },
  {
   "cell_type": "markdown",
   "id": "6338df58",
   "metadata": {},
   "source": [
    "Cell with markdown text"
   ]
  },
  {
   "cell_type": "raw",
   "id": "246adb21",
   "metadata": {},
   "source": [
    "Cell with raw text"
   ]
  },
  {
   "cell_type": "markdown",
   "id": "4770699f",
   "metadata": {},
   "source": [
    "After filling the cell, you need to press `Shift + Enter`, this command will process the contents of the cell:\n",
    "interpret the code or lay out the marked-up text."
   ]
  },
  {
   "cell_type": "markdown",
   "id": "2ac07829",
   "metadata": {},
   "source": [
    "### Basic shortcuts\n",
    "\n",
    "- `A` creates a cell above the current cell\n",
    "- `B` creates a cell below the current cell\n",
    "- `DD` deletes the curent cell\n",
    "- `Enter` enters in edit mode\n",
    "- `Esc` exits edit mode\n",
    "- `Ctrl` + `Enter` runs the cell\n",
    "- `Shift` + `Enter` runs the cell and creates a (or jumps to) next one\n",
    "- `m` converts the current cell to markdown\n",
    "- `y` converts the current cell to code"
   ]
  },
  {
   "cell_type": "markdown",
   "id": "ad2178c0",
   "metadata": {},
   "source": [
    "## A few words about layout\n",
    "[Here](https://athena.brynmawr.edu/jupyter/hub/dblank/public/Jupyter%20Notebook%20Users%20Manual.ipynb) is <s> not </s> a big note on the Markdown markup language. It allows you to:\n",
    "\n",
    "0. Make ordered lists\n",
    "1. #to do ##headers ###different levels\n",
    "3. Highlight *text* <s>when</s> **necessary**\n",
    "4. Add [links](https://athena.brynmawr.edu/jupyter/hub/dblank/public/Jupyter%20Notebook%20Users%20Manual.ipynb)\n",
    "\n",
    "* Create unordered lists\n",
    "\n",
    "Make inserts with LaTex:\n",
    "    \n",
    "$$\n",
    "\\sin(-\\alpha)=-\\sin(\\alpha) \\\\\n",
    "\\arccos(x)=\\arcsin(u) \\\\\n",
    "\\log_n(n)=1 \\\\\n",
    "\\tan(x) = \\frac{\\sin(x)}{\\cos(x)}\n",
    "$$\n",
    "\n",
    "You can also insert images:\n",
    "\n",
    "<img src = \"https://www.ulisboa.pt/sites/ulisboa.pt/files/styles/logos_80px_vert/public/uo/logos/logo_ist.jpg\">\n",
    "\n"
   ]
  },
  {
   "cell_type": "markdown",
   "id": "438e9378",
   "metadata": {},
   "source": [
    "---"
   ]
  },
  {
   "cell_type": "markdown",
   "id": "91a3fb2a",
   "metadata": {},
   "source": [
    "# Introduction to Numpy\n",
    "\n",
    "Python library that allows to [conveniently] work with multidimensional arrays and matrices, containing mathematical functions. In addition, NumPy can vectorize many of the computations that take place in machine learning.\n",
    "\n",
    " - [numpy](http://www.numpy.org)\n",
    " - [numpy tutorial](http://cs231n.github.io/python-numpy-tutorial/)\n",
    " - [100 numpy exercises](http://www.labri.fr/perso/nrougier/teaching/numpy.100/)\n",
    " - [numpy for matlab users](https://numpy.org/doc/stable/user/numpy-for-matlab-users.html)\n",
    " \n",
    " Let's start by importing it"
   ]
  },
  {
   "cell_type": "code",
   "execution_count": null,
   "id": "82961855",
   "metadata": {},
   "outputs": [],
   "source": [
    "import numpy as np"
   ]
  },
  {
   "cell_type": "markdown",
   "id": "dff71aa3",
   "metadata": {},
   "source": [
    "The main NumPy data type is a multidimensional array of elements of the same type - [numpy.ndarray](http://docs.scipy.org/doc/numpy-1.10.0/reference/generated/numpy.array.html). Each such array has several *dimensions* or *axes* - in particular, a vector is a one-dimensional array and has 1 axis, a matrix is a two-dimensional array and has 2 axes, etc."
   ]
  },
  {
   "cell_type": "code",
   "execution_count": null,
   "id": "634793d5",
   "metadata": {
    "ExecuteTime": {
     "end_time": "2021-10-27T20:56:27.479385Z",
     "start_time": "2021-10-27T20:56:27.475287Z"
    }
   },
   "outputs": [],
   "source": [
    "vec = np.array([1, 2, 3])\n",
    "vec.ndim # number of dimensions"
   ]
  },
  {
   "cell_type": "code",
   "execution_count": null,
   "id": "0aaad2df",
   "metadata": {
    "ExecuteTime": {
     "end_time": "2021-10-27T20:56:27.486642Z",
     "start_time": "2021-10-27T20:56:27.482280Z"
    }
   },
   "outputs": [],
   "source": [
    "mat = np.array([[1, 2, 3], [4, 5, 6]])\n",
    "mat.ndim"
   ]
  },
  {
   "cell_type": "markdown",
   "id": "8ec03ff6",
   "metadata": {},
   "source": [
    "To find out the length of the array along each of the axes, you can use the shape attribute:"
   ]
  },
  {
   "cell_type": "code",
   "execution_count": null,
   "id": "dbd44319",
   "metadata": {
    "ExecuteTime": {
     "end_time": "2021-10-27T20:56:27.492951Z",
     "start_time": "2021-10-27T20:56:27.489542Z"
    }
   },
   "outputs": [],
   "source": [
    "vec.shape"
   ]
  },
  {
   "cell_type": "markdown",
   "id": "34f34972",
   "metadata": {},
   "source": [
    "To find out the type of elements and their size in bytes:"
   ]
  },
  {
   "cell_type": "code",
   "execution_count": null,
   "id": "c1b721f1",
   "metadata": {
    "ExecuteTime": {
     "end_time": "2021-10-27T20:56:27.499391Z",
     "start_time": "2021-10-27T20:56:27.495224Z"
    }
   },
   "outputs": [],
   "source": [
    "mat.dtype.name"
   ]
  },
  {
   "cell_type": "code",
   "execution_count": null,
   "id": "e334cb25",
   "metadata": {
    "ExecuteTime": {
     "end_time": "2021-10-27T20:56:27.505214Z",
     "start_time": "2021-10-27T20:56:27.501670Z"
    }
   },
   "outputs": [],
   "source": [
    "mat.itemsize"
   ]
  },
  {
   "cell_type": "markdown",
   "id": "c8438df2",
   "metadata": {},
   "source": [
    "<a id='creating_arrays'></a>\n",
    "## Creating Arrays\n",
    "\n",
    "* Pass an iterable object as a parameter to the array function (you can also explicitly specify the type of elements):"
   ]
  },
  {
   "cell_type": "code",
   "execution_count": null,
   "id": "479ea8f0",
   "metadata": {
    "ExecuteTime": {
     "end_time": "2021-10-27T20:56:27.513143Z",
     "start_time": "2021-10-27T20:56:27.508213Z"
    }
   },
   "outputs": [],
   "source": [
    "A = np.array([1, 2, 3])\n",
    "A"
   ]
  },
  {
   "cell_type": "code",
   "execution_count": null,
   "id": "a94a890a",
   "metadata": {
    "ExecuteTime": {
     "end_time": "2021-10-27T20:56:27.519676Z",
     "start_time": "2021-10-27T20:56:27.515619Z"
    }
   },
   "outputs": [],
   "source": [
    "A = np.array([1, 2, 3], dtype = float)\n",
    "A"
   ]
  },
  {
   "cell_type": "code",
   "execution_count": null,
   "id": "c2ba02ec",
   "metadata": {
    "ExecuteTime": {
     "end_time": "2021-10-27T20:56:27.527656Z",
     "start_time": "2021-10-27T20:56:27.522645Z"
    }
   },
   "outputs": [],
   "source": [
    "B = np.array([(1, 2), (3, 4)])\n",
    "B"
   ]
  },
  {
   "cell_type": "markdown",
   "id": "5c1ba0d4",
   "metadata": {},
   "source": [
    "* Arrays of a special kind using the functions zeros, ones, identity, empty:"
   ]
  },
  {
   "cell_type": "code",
   "execution_count": null,
   "id": "1b795678",
   "metadata": {
    "ExecuteTime": {
     "end_time": "2021-10-27T20:56:27.535030Z",
     "start_time": "2021-10-27T20:56:27.529886Z"
    }
   },
   "outputs": [],
   "source": [
    "np.zeros((3,))"
   ]
  },
  {
   "cell_type": "code",
   "execution_count": null,
   "id": "3027d9d1",
   "metadata": {
    "ExecuteTime": {
     "end_time": "2021-10-27T20:56:27.541638Z",
     "start_time": "2021-10-27T20:56:27.537440Z"
    }
   },
   "outputs": [],
   "source": [
    "np.ones((3, 4))"
   ]
  },
  {
   "cell_type": "code",
   "execution_count": null,
   "id": "2dd2ca8b",
   "metadata": {
    "ExecuteTime": {
     "end_time": "2021-10-27T20:56:27.549052Z",
     "start_time": "2021-10-27T20:56:27.543809Z"
    }
   },
   "outputs": [],
   "source": [
    "np.identity(3)  # np.eye()"
   ]
  },
  {
   "cell_type": "code",
   "execution_count": null,
   "id": "7319d36f",
   "metadata": {
    "ExecuteTime": {
     "end_time": "2021-10-27T20:56:27.556449Z",
     "start_time": "2021-10-27T20:56:27.551332Z"
    }
   },
   "outputs": [],
   "source": [
    "np.empty((2, 5))"
   ]
  },
  {
   "cell_type": "markdown",
   "id": "5026e569",
   "metadata": {},
   "source": [
    "Note that the contents of an array created with the empty function are **not initialized**, which means it **may contain random numbers** as values."
   ]
  },
  {
   "cell_type": "markdown",
   "id": "9aacd55e",
   "metadata": {},
   "source": [
    "* Creating sequences using the arange function (takes the left and right boundaries of the sequence and **step** as parameters) and linspace function (takes the left and right boundaries and **number of elements**):"
   ]
  },
  {
   "cell_type": "code",
   "execution_count": null,
   "id": "8c05ad2d",
   "metadata": {
    "ExecuteTime": {
     "end_time": "2021-10-27T20:56:27.563967Z",
     "start_time": "2021-10-27T20:56:27.559277Z"
    }
   },
   "outputs": [],
   "source": [
    "np.arange(2, 20, 3) # similar to standard python range function, right border is not included"
   ]
  },
  {
   "cell_type": "code",
   "execution_count": null,
   "id": "115411f4",
   "metadata": {
    "ExecuteTime": {
     "end_time": "2021-10-27T20:56:27.570646Z",
     "start_time": "2021-10-27T20:56:27.565967Z"
    }
   },
   "outputs": [],
   "source": [
    "np.arange(2.5, 8.7, 0.9) # but can work with real numbers too"
   ]
  },
  {
   "cell_type": "code",
   "execution_count": null,
   "id": "a247f598",
   "metadata": {
    "ExecuteTime": {
     "end_time": "2021-10-27T20:56:27.577999Z",
     "start_time": "2021-10-27T20:56:27.573476Z"
    }
   },
   "outputs": [],
   "source": [
    "np.linspace(1, 10, 19) # right border included (by default)"
   ]
  },
  {
   "cell_type": "markdown",
   "id": "9c5694e9",
   "metadata": {},
   "source": [
    "* Creating arrays of given shapes with random values from a uniform distribution over \\[0,1\\):"
   ]
  },
  {
   "cell_type": "code",
   "execution_count": null,
   "id": "18cfab6f",
   "metadata": {},
   "outputs": [],
   "source": [
    "np.random.rand(3,2)"
   ]
  },
  {
   "cell_type": "markdown",
   "id": "9177d1c5",
   "metadata": {},
   "source": [
    "* Creating a sample (or samples) from the “standard normal” (Gaussian) distribution of mean 0 and variance 1. "
   ]
  },
  {
   "cell_type": "code",
   "execution_count": null,
   "id": "9739708c",
   "metadata": {},
   "outputs": [],
   "source": [
    "np.random.randn(2,3)  # randn(N, M) generates N arrays of shape M, filled with random floats"
   ]
  },
  {
   "cell_type": "markdown",
   "id": "d55de3cb",
   "metadata": {},
   "source": [
    "* To resize an existing array, you can use the reshape function (while the number of elements must remain unchanged):"
   ]
  },
  {
   "cell_type": "code",
   "execution_count": null,
   "id": "5c3c7336",
   "metadata": {
    "ExecuteTime": {
     "end_time": "2021-10-27T20:56:27.585092Z",
     "start_time": "2021-10-27T20:56:27.580609Z"
    }
   },
   "outputs": [],
   "source": [
    "np.arange(9).reshape(3, 3)"
   ]
  },
  {
   "cell_type": "markdown",
   "id": "bc4d3210",
   "metadata": {},
   "source": [
    "Instead of the length value of the array for one of the dimensions, you can put -1 - in this case, the value will be calculated automatically:"
   ]
  },
  {
   "cell_type": "code",
   "execution_count": null,
   "id": "ed5af622",
   "metadata": {
    "ExecuteTime": {
     "end_time": "2021-10-27T20:56:27.592070Z",
     "start_time": "2021-10-27T20:56:27.587674Z"
    },
    "scrolled": false
   },
   "outputs": [],
   "source": [
    "np.arange(8).reshape(2, -1)"
   ]
  },
  {
   "cell_type": "markdown",
   "id": "d9731076",
   "metadata": {},
   "source": [
    "* Transpose an existing array:"
   ]
  },
  {
   "cell_type": "code",
   "execution_count": null,
   "id": "e4e24c4d",
   "metadata": {
    "ExecuteTime": {
     "end_time": "2021-10-27T20:56:27.598837Z",
     "start_time": "2021-10-27T20:56:27.594199Z"
    }
   },
   "outputs": [],
   "source": [
    "C = np.arange(6).reshape(2, -1)\n",
    "C"
   ]
  },
  {
   "cell_type": "code",
   "execution_count": null,
   "id": "5d55130a",
   "metadata": {
    "ExecuteTime": {
     "end_time": "2021-10-27T20:56:27.605364Z",
     "start_time": "2021-10-27T20:56:27.601192Z"
    }
   },
   "outputs": [],
   "source": [
    "C.T"
   ]
  },
  {
   "cell_type": "markdown",
   "id": "07baa6f4",
   "metadata": {},
   "source": [
    "* Combining existing arrays along a given axis:"
   ]
  },
  {
   "cell_type": "code",
   "execution_count": null,
   "id": "02bdfe1a",
   "metadata": {
    "ExecuteTime": {
     "end_time": "2021-10-27T20:56:27.612951Z",
     "start_time": "2021-10-27T20:56:27.607398Z"
    }
   },
   "outputs": [],
   "source": [
    "A = np.arange(6).reshape(2, -1)\n",
    "np.hstack((A, A**2))"
   ]
  },
  {
   "cell_type": "code",
   "execution_count": null,
   "id": "4e5e06c7",
   "metadata": {
    "ExecuteTime": {
     "end_time": "2021-10-27T20:56:27.619466Z",
     "start_time": "2021-10-27T20:56:27.615433Z"
    }
   },
   "outputs": [],
   "source": [
    "np.vstack((A, A**2))"
   ]
  },
  {
   "cell_type": "code",
   "execution_count": null,
   "id": "8d891fd1",
   "metadata": {
    "ExecuteTime": {
     "end_time": "2021-10-27T20:56:27.626380Z",
     "start_time": "2021-10-27T20:56:27.621944Z"
    }
   },
   "outputs": [],
   "source": [
    "np.concatenate((A, A**2), axis = 1)"
   ]
  },
  {
   "cell_type": "markdown",
   "id": "81db14ea",
   "metadata": {},
   "source": [
    "* Repeating an existing array:"
   ]
  },
  {
   "cell_type": "code",
   "execution_count": null,
   "id": "e412f840",
   "metadata": {
    "ExecuteTime": {
     "end_time": "2021-10-27T20:56:27.633508Z",
     "start_time": "2021-10-27T20:56:27.628665Z"
    }
   },
   "outputs": [],
   "source": [
    "a = np.arange(3)\n",
    "np.tile(a, (2, 2))"
   ]
  },
  {
   "cell_type": "code",
   "execution_count": null,
   "id": "6adcb90b",
   "metadata": {
    "ExecuteTime": {
     "end_time": "2021-10-27T20:56:27.639735Z",
     "start_time": "2021-10-27T20:56:27.635529Z"
    }
   },
   "outputs": [],
   "source": [
    "np.tile(a, (4, 1))"
   ]
  },
  {
   "cell_type": "markdown",
   "id": "97cda938",
   "metadata": {},
   "source": [
    "<a id='basic_operations'></a>\n",
    "## Basic operations\n",
    "\n",
    "* Basic arithmetic operations on arrays are performed element-wise:"
   ]
  },
  {
   "cell_type": "code",
   "execution_count": null,
   "id": "c2162c0a",
   "metadata": {
    "ExecuteTime": {
     "end_time": "2021-10-27T20:56:27.644966Z",
     "start_time": "2021-10-27T20:56:27.641719Z"
    }
   },
   "outputs": [],
   "source": [
    "A = np.arange(9).reshape(3, 3)\n",
    "B = np.arange(1, 10).reshape(3, 3)"
   ]
  },
  {
   "cell_type": "code",
   "execution_count": null,
   "id": "5826a499",
   "metadata": {
    "ExecuteTime": {
     "end_time": "2021-10-27T20:56:27.651109Z",
     "start_time": "2021-10-27T20:56:27.647684Z"
    }
   },
   "outputs": [],
   "source": [
    "print(A)\n",
    "print(B)"
   ]
  },
  {
   "cell_type": "code",
   "execution_count": null,
   "id": "d9f53866",
   "metadata": {
    "ExecuteTime": {
     "end_time": "2021-10-27T20:56:27.657632Z",
     "start_time": "2021-10-27T20:56:27.653799Z"
    }
   },
   "outputs": [],
   "source": [
    "A + B"
   ]
  },
  {
   "cell_type": "code",
   "execution_count": null,
   "id": "a4ee2544",
   "metadata": {
    "ExecuteTime": {
     "end_time": "2021-10-27T20:56:27.664222Z",
     "start_time": "2021-10-27T20:56:27.660070Z"
    }
   },
   "outputs": [],
   "source": [
    "A * 1.0 / B"
   ]
  },
  {
   "cell_type": "code",
   "execution_count": null,
   "id": "e3d72519",
   "metadata": {
    "ExecuteTime": {
     "end_time": "2021-10-27T20:56:27.670518Z",
     "start_time": "2021-10-27T20:56:27.666392Z"
    }
   },
   "outputs": [],
   "source": [
    "A + 1"
   ]
  },
  {
   "cell_type": "code",
   "execution_count": null,
   "id": "263ffcc8",
   "metadata": {
    "ExecuteTime": {
     "end_time": "2021-10-27T20:56:27.677015Z",
     "start_time": "2021-10-27T20:56:27.673034Z"
    }
   },
   "outputs": [],
   "source": [
    "3 * A"
   ]
  },
  {
   "cell_type": "code",
   "execution_count": null,
   "id": "b4cc36a8",
   "metadata": {
    "ExecuteTime": {
     "end_time": "2021-10-27T20:56:27.683293Z",
     "start_time": "2021-10-27T20:56:27.679296Z"
    }
   },
   "outputs": [],
   "source": [
    "A ** 2"
   ]
  },
  {
   "cell_type": "markdown",
   "id": "e2e5a8c8",
   "metadata": {},
   "source": [
    "Note that multiplication of arrays is also **element-wise**, and not matrix:"
   ]
  },
  {
   "cell_type": "code",
   "execution_count": null,
   "id": "8fd42ab5",
   "metadata": {
    "ExecuteTime": {
     "end_time": "2021-10-27T20:56:27.689734Z",
     "start_time": "2021-10-27T20:56:27.685572Z"
    }
   },
   "outputs": [],
   "source": [
    "A * B"
   ]
  },
  {
   "cell_type": "markdown",
   "id": "274e756f",
   "metadata": {},
   "source": [
    "To perform matrix multiplication, use the dot function:"
   ]
  },
  {
   "cell_type": "code",
   "execution_count": null,
   "id": "636de21b",
   "metadata": {
    "ExecuteTime": {
     "end_time": "2021-10-27T20:56:27.696134Z",
     "start_time": "2021-10-27T20:56:27.691840Z"
    }
   },
   "outputs": [],
   "source": [
    "A.dot(B)"
   ]
  },
  {
   "cell_type": "markdown",
   "id": "ee4d9a05",
   "metadata": {},
   "source": [
    "Since operations are performed element-wise, the operands of binary operations must be the same size. However, the operation can be performed correctly if the sizes of the operands are such that they can be expanded to the same size. This feature is called [broadcasting](http://www.scipy-lectures.org/intro/numpy/operations.html#broadcasting):\n",
    "<img src = \"http://www.scipy-lectures.org/_images/numpy_broadcasting.png\">"
   ]
  },
  {
   "cell_type": "code",
   "execution_count": null,
   "id": "c53b69bf",
   "metadata": {
    "ExecuteTime": {
     "end_time": "2021-10-27T20:56:27.703327Z",
     "start_time": "2021-10-27T20:56:27.698518Z"
    }
   },
   "outputs": [],
   "source": [
    "np.tile(np.arange(0, 40, 10), (3, 1)).T + np.array([0, 1, 2])"
   ]
  },
  {
   "cell_type": "markdown",
   "id": "24fe45c5",
   "metadata": {},
   "source": [
    "* Functions as sin, cos, exp, etc. are also applied element-wise:"
   ]
  },
  {
   "cell_type": "code",
   "execution_count": null,
   "id": "142e6c71",
   "metadata": {
    "ExecuteTime": {
     "end_time": "2021-10-27T20:56:27.709690Z",
     "start_time": "2021-10-27T20:56:27.705811Z"
    }
   },
   "outputs": [],
   "source": [
    "np.exp(A)"
   ]
  },
  {
   "cell_type": "markdown",
   "id": "48983649",
   "metadata": {},
   "source": [
    "* Some operations on arrays (for example, calculating the minimum, maximum, sum of elements) are performed on all elements regardless of the shape of the array, however, when specifying the axis, they are performed along it (for example, to find the maximum of each row or each column):"
   ]
  },
  {
   "cell_type": "code",
   "execution_count": null,
   "id": "e1701e0a",
   "metadata": {
    "ExecuteTime": {
     "end_time": "2021-10-27T20:56:27.716343Z",
     "start_time": "2021-10-27T20:56:27.711964Z"
    }
   },
   "outputs": [],
   "source": [
    "A"
   ]
  },
  {
   "cell_type": "code",
   "execution_count": null,
   "id": "abf9e8ef",
   "metadata": {
    "ExecuteTime": {
     "end_time": "2021-10-27T20:56:27.722625Z",
     "start_time": "2021-10-27T20:56:27.718672Z"
    }
   },
   "outputs": [],
   "source": [
    "A.min()"
   ]
  },
  {
   "cell_type": "code",
   "execution_count": null,
   "id": "8bb0131a",
   "metadata": {
    "ExecuteTime": {
     "end_time": "2021-10-27T20:56:27.729164Z",
     "start_time": "2021-10-27T20:56:27.724881Z"
    }
   },
   "outputs": [],
   "source": [
    "A.max(axis = 0)"
   ]
  },
  {
   "cell_type": "code",
   "execution_count": null,
   "id": "44bcca98",
   "metadata": {
    "ExecuteTime": {
     "end_time": "2021-10-27T20:56:27.735222Z",
     "start_time": "2021-10-27T20:56:27.731415Z"
    }
   },
   "outputs": [],
   "source": [
    "A.sum(axis = 1)"
   ]
  },
  {
   "cell_type": "code",
   "execution_count": null,
   "id": "db75fa4c",
   "metadata": {},
   "outputs": [],
   "source": [
    "A.mean(axis = 1)"
   ]
  },
  {
   "cell_type": "markdown",
   "id": "a273774e",
   "metadata": {},
   "source": [
    "You can also use `np.min`, `np.max`, `np.sum`. For instance:"
   ]
  },
  {
   "cell_type": "code",
   "execution_count": null,
   "id": "d6702606",
   "metadata": {},
   "outputs": [],
   "source": [
    "np.sum(A, axis = 1)"
   ]
  },
  {
   "cell_type": "markdown",
   "id": "973444a8",
   "metadata": {},
   "source": [
    "<a id='indexing'></a>\n",
    "## Indexing\n",
    "\n",
    "[Many different ways](http://docs.scipy.org/doc/numpy/reference/arrays.indexing.html) can be used to access the elements, let's take a look at the main ones.\n",
    "\n",
    "* Specific index values and slices can be used for indexing, as in standard Python types. For multidimensional arrays, the indices for the different axes are separated by commas. If indices are specified for a multidimensional array for not all dimensions, the missing ones are filled with a full slice (:)."
   ]
  },
  {
   "cell_type": "code",
   "execution_count": null,
   "id": "45a7d5b3",
   "metadata": {
    "ExecuteTime": {
     "end_time": "2021-10-27T20:56:27.744727Z",
     "start_time": "2021-10-27T20:56:27.737926Z"
    }
   },
   "outputs": [],
   "source": [
    "a = np.arange(10)\n",
    "a"
   ]
  },
  {
   "cell_type": "code",
   "execution_count": null,
   "id": "34d09ce5",
   "metadata": {
    "ExecuteTime": {
     "end_time": "2021-10-27T20:56:27.752249Z",
     "start_time": "2021-10-27T20:56:27.747812Z"
    }
   },
   "outputs": [],
   "source": [
    "a[2:5]"
   ]
  },
  {
   "cell_type": "code",
   "execution_count": null,
   "id": "e77ee784",
   "metadata": {
    "ExecuteTime": {
     "end_time": "2021-10-27T20:56:27.769944Z",
     "start_time": "2021-10-27T20:56:27.765862Z"
    }
   },
   "outputs": [],
   "source": [
    "a[3:8:2]"
   ]
  },
  {
   "cell_type": "code",
   "execution_count": null,
   "id": "534457bb",
   "metadata": {
    "ExecuteTime": {
     "end_time": "2021-10-27T20:56:27.778828Z",
     "start_time": "2021-10-27T20:56:27.774723Z"
    }
   },
   "outputs": [],
   "source": [
    "A = np.arange(81).reshape(9, -1)\n",
    "A"
   ]
  },
  {
   "cell_type": "code",
   "execution_count": null,
   "id": "9f444162",
   "metadata": {},
   "outputs": [],
   "source": [
    "A.shape"
   ]
  },
  {
   "cell_type": "code",
   "execution_count": null,
   "id": "eb032515",
   "metadata": {
    "ExecuteTime": {
     "end_time": "2021-10-27T20:56:27.784849Z",
     "start_time": "2021-10-27T20:56:27.781188Z"
    }
   },
   "outputs": [],
   "source": [
    "A[2:4]"
   ]
  },
  {
   "cell_type": "code",
   "execution_count": null,
   "id": "884d51b3",
   "metadata": {
    "ExecuteTime": {
     "end_time": "2021-10-27T20:56:27.791170Z",
     "start_time": "2021-10-27T20:56:27.787254Z"
    }
   },
   "outputs": [],
   "source": [
    "A[:, 2:4]"
   ]
  },
  {
   "cell_type": "code",
   "execution_count": null,
   "id": "de9cc638",
   "metadata": {
    "ExecuteTime": {
     "end_time": "2021-10-27T20:56:27.798328Z",
     "start_time": "2021-10-27T20:56:27.793434Z"
    }
   },
   "outputs": [],
   "source": [
    "A[2:4, 2:4]"
   ]
  },
  {
   "cell_type": "code",
   "execution_count": null,
   "id": "c9c77b51",
   "metadata": {
    "ExecuteTime": {
     "end_time": "2021-10-27T20:56:27.804630Z",
     "start_time": "2021-10-27T20:56:27.800180Z"
    }
   },
   "outputs": [],
   "source": [
    "A[-1]"
   ]
  },
  {
   "cell_type": "markdown",
   "id": "3e6b25a6",
   "metadata": {},
   "source": [
    "* Indexing can also be done by using index lists (on each axis):"
   ]
  },
  {
   "cell_type": "code",
   "execution_count": null,
   "id": "aff57ec5",
   "metadata": {
    "ExecuteTime": {
     "end_time": "2021-10-27T20:56:27.819859Z",
     "start_time": "2021-10-27T20:56:27.815415Z"
    }
   },
   "outputs": [],
   "source": [
    "A[[2, 4, 5], [0, 1, 3]]"
   ]
  },
  {
   "cell_type": "markdown",
   "id": "1834c70b",
   "metadata": {},
   "source": [
    "* Boolean indexing can also be applied (using boolean arrays):"
   ]
  },
  {
   "cell_type": "code",
   "execution_count": null,
   "id": "3c7c347f",
   "metadata": {
    "ExecuteTime": {
     "end_time": "2021-10-27T20:56:27.826834Z",
     "start_time": "2021-10-27T20:56:27.822481Z"
    }
   },
   "outputs": [],
   "source": [
    "A = np.arange(11)\n",
    "A"
   ]
  },
  {
   "cell_type": "code",
   "execution_count": null,
   "id": "d62864a4",
   "metadata": {
    "ExecuteTime": {
     "end_time": "2021-10-27T20:56:27.833402Z",
     "start_time": "2021-10-27T20:56:27.828912Z"
    }
   },
   "outputs": [],
   "source": [
    "A[A % 5 != 3]"
   ]
  },
  {
   "cell_type": "code",
   "execution_count": null,
   "id": "a7d70b67",
   "metadata": {
    "ExecuteTime": {
     "end_time": "2021-10-27T20:56:27.840838Z",
     "start_time": "2021-10-27T20:56:27.835424Z"
    }
   },
   "outputs": [],
   "source": [
    "A[(A != 7) & (A % 5 != 3)] # boolean operations can also be used"
   ]
  },
  {
   "cell_type": "markdown",
   "id": "635616b6",
   "metadata": {},
   "source": [
    "<a id='examples'></a>\n",
    "## Examples"
   ]
  },
  {
   "cell_type": "code",
   "execution_count": null,
   "id": "b7307e10",
   "metadata": {
    "ExecuteTime": {
     "end_time": "2021-10-27T20:56:27.848646Z",
     "start_time": "2021-10-27T20:56:27.843290Z"
    }
   },
   "outputs": [],
   "source": [
    "A = np.arange(120).reshape(10, -1)\n",
    "A"
   ]
  },
  {
   "cell_type": "markdown",
   "id": "b1aeadd0",
   "metadata": {},
   "source": [
    "1. Select all even rows of matrix A.\n",
    "2. Make a one-dimensional array of all elements that are not divisible by 3, that come only from odd columns of A.\n",
    "3. Calculate the sum of the diagonal elements of A."
   ]
  },
  {
   "cell_type": "code",
   "execution_count": null,
   "id": "97b9b052",
   "metadata": {
    "ExecuteTime": {
     "end_time": "2021-10-27T20:56:27.853400Z",
     "start_time": "2021-10-27T20:56:27.850967Z"
    }
   },
   "outputs": [],
   "source": [
    "# Your code here"
   ]
  },
  {
   "cell_type": "markdown",
   "id": "c1b9887f",
   "metadata": {},
   "source": [
    "## Why use numpy?\n",
    "\n",
    "Why use NumPy when standard lists/tuples and loops exist?\n",
    "\n",
    "The reason lies in the speed of work. Let's try to calculate the sum of element-wise products of 2 large vectors:"
   ]
  },
  {
   "cell_type": "code",
   "execution_count": null,
   "id": "32876e9c",
   "metadata": {
    "ExecuteTime": {
     "end_time": "2021-10-27T20:56:28.039983Z",
     "start_time": "2021-10-27T20:56:27.855808Z"
    }
   },
   "outputs": [],
   "source": [
    "import time\n",
    "\n",
    "A_quick_arr = np.random.normal(size = (1000000,))\n",
    "B_quick_arr = np.random.normal(size = (1000000,))\n",
    "\n",
    "A_slow_list, B_slow_list = list(A_quick_arr), list(B_quick_arr)"
   ]
  },
  {
   "cell_type": "code",
   "execution_count": null,
   "id": "c5422257",
   "metadata": {
    "ExecuteTime": {
     "end_time": "2021-10-27T20:56:28.453409Z",
     "start_time": "2021-10-27T20:56:28.042004Z"
    }
   },
   "outputs": [],
   "source": [
    "%%time\n",
    "\n",
    "ans = 0\n",
    "for i in range(len(A_slow_list)):\n",
    "    ans += A_slow_list[i] * B_slow_list[i]"
   ]
  },
  {
   "cell_type": "code",
   "execution_count": null,
   "id": "afe3c1c5",
   "metadata": {
    "ExecuteTime": {
     "end_time": "2021-10-27T20:56:29.267558Z",
     "start_time": "2021-10-27T20:56:28.851944Z"
    }
   },
   "outputs": [],
   "source": [
    "%%time\n",
    "\n",
    "ans = sum([A_slow_list[i] * B_slow_list[i] for i in range(1000000)])"
   ]
  },
  {
   "cell_type": "code",
   "execution_count": null,
   "id": "47ff7b85",
   "metadata": {
    "ExecuteTime": {
     "end_time": "2021-10-27T20:56:29.287850Z",
     "start_time": "2021-10-27T20:56:29.269796Z"
    }
   },
   "outputs": [],
   "source": [
    "%%time\n",
    "\n",
    "ans = np.sum(A_quick_arr * B_quick_arr)"
   ]
  },
  {
   "cell_type": "code",
   "execution_count": null,
   "id": "e290ace8",
   "metadata": {
    "ExecuteTime": {
     "end_time": "2021-10-27T20:56:29.294464Z",
     "start_time": "2021-10-27T20:56:29.290006Z"
    }
   },
   "outputs": [],
   "source": [
    "%%time\n",
    "\n",
    "ans = A_quick_arr.dot(B_quick_arr)"
   ]
  },
  {
   "cell_type": "markdown",
   "id": "ef90e841",
   "metadata": {},
   "source": [
    "---\n",
    "<a id='matplotlib'></a>\n",
    "# Introduction to Matplotlib"
   ]
  },
  {
   "cell_type": "markdown",
   "id": "26bcef5f",
   "metadata": {
    "collapsed": true
   },
   "source": [
    "* [matplotlib](http://matplotlib.org)\n",
    "* [matplotlib - 2D and 3D plotting in Python](http://nbviewer.jupyter.org/github/jrjohansson/scientific-python-lectures/blob/master/Lecture-4-Matplotlib.ipynb)\n",
    "* [visualization in pandas](http://pandas.pydata.org/pandas-docs/stable/visualization.html)\n",
    "\n",
    "**Matplotlib** is a Python library used for visualization."
   ]
  },
  {
   "cell_type": "code",
   "execution_count": null,
   "id": "958f8e7e",
   "metadata": {
    "ExecuteTime": {
     "end_time": "2021-10-27T20:56:42.986251Z",
     "start_time": "2021-10-27T20:56:42.982711Z"
    }
   },
   "outputs": [],
   "source": [
    "%matplotlib inline\n",
    "import matplotlib.pyplot as plt"
   ]
  },
  {
   "cell_type": "markdown",
   "id": "e0fdad0e",
   "metadata": {},
   "source": [
    "To plot graphs in matplotlib, we use figures and axes assigned to them, which is quite convenient in the case when it is necessary to plot several graphs or when their location is non-standard."
   ]
  },
  {
   "cell_type": "code",
   "execution_count": null,
   "id": "baa8cf3d",
   "metadata": {
    "ExecuteTime": {
     "end_time": "2021-10-27T20:56:43.355720Z",
     "start_time": "2021-10-27T20:56:42.994018Z"
    }
   },
   "outputs": [],
   "source": [
    "fig = plt.figure(figsize=(10, 6))\n",
    "axes = fig.gca()\n",
    "\n",
    "x = np.linspace(1, 10, 20)\n",
    "axes.plot(x, x ** 2, 'r', label='$x^2$')\n",
    "axes.plot(x, x ** 3, 'b*--', label=\"$x^3$\")\n",
    "\n",
    "axes.set_xlabel('x')\n",
    "axes.set_ylabel('y')\n",
    "axes.set_title('title')\n",
    "axes.legend()"
   ]
  },
  {
   "cell_type": "code",
   "execution_count": null,
   "id": "29702e46",
   "metadata": {
    "ExecuteTime": {
     "end_time": "2021-10-27T20:56:43.518556Z",
     "start_time": "2021-10-27T20:56:43.357348Z"
    }
   },
   "outputs": [],
   "source": [
    "fig = plt.figure(figsize=(10, 6))\n",
    "\n",
    "axes = fig.add_axes([0.1, 0.1, 0.8, 0.8])\n",
    "\n",
    "axes.scatter(x, x ** 2, color='red', marker='*', s=80)\n",
    "axes.scatter(x, x ** 3)\n",
    "\n",
    "axes.set_xlabel('x')\n",
    "axes.set_ylabel('y')\n",
    "axes.set_title('title')"
   ]
  },
  {
   "cell_type": "markdown",
   "id": "39fe6377",
   "metadata": {},
   "source": [
    "Matplotlib allows you to customize the details of the generated plots:"
   ]
  },
  {
   "cell_type": "code",
   "execution_count": null,
   "id": "df514de7",
   "metadata": {
    "ExecuteTime": {
     "end_time": "2021-10-27T20:56:43.705815Z",
     "start_time": "2021-10-27T20:56:43.520760Z"
    }
   },
   "outputs": [],
   "source": [
    "fig = plt.figure(figsize=(10, 6))\n",
    "\n",
    "axes = fig.add_axes([0.1, 0.1, 0.8, 0.8])\n",
    "\n",
    "axes.plot(x, x ** 2, 'r^-', markersize=8, markerfacecolor=\"yellow\", \n",
    "          markeredgewidth=1, markeredgecolor=\"green\")\n",
    "axes.plot(x, x ** 3, 'b*--', alpha = 0.5)\n",
    "\n",
    "axes.set_xlabel('x')\n",
    "axes.set_ylabel('y')\n",
    "axes.set_title('title')\n",
    "axes.legend(['$y = x^2$', '$y = x^3$'], loc = 0, fontsize = 18)"
   ]
  },
  {
   "cell_type": "markdown",
   "id": "808179a7",
   "metadata": {},
   "source": [
    "You can also use one of the classic configurations:"
   ]
  },
  {
   "cell_type": "code",
   "execution_count": null,
   "id": "bd6d4382",
   "metadata": {
    "ExecuteTime": {
     "end_time": "2021-10-27T20:56:44.744377Z",
     "start_time": "2021-10-27T20:56:44.093212Z"
    }
   },
   "outputs": [],
   "source": [
    "fig, axes = plt.subplots(nrows=1, ncols=3, figsize = (16, 5))\n",
    "\n",
    "for pow_num, ax in enumerate(axes):\n",
    "    ax.plot(x, x ** (pow_num + 1), 'r')\n",
    "    ax.set_xlabel('x')\n",
    "    ax.set_ylabel('y')\n",
    "    ax.set_title(r'$y = x^' + str(pow_num + 1)+ r'$', fontsize = 18)\n",
    "fig.tight_layout()"
   ]
  },
  {
   "cell_type": "markdown",
   "id": "081aee99",
   "metadata": {},
   "source": [
    "The resulting graph can be saved to a file:"
   ]
  },
  {
   "cell_type": "code",
   "execution_count": null,
   "id": "35ca283c",
   "metadata": {
    "ExecuteTime": {
     "end_time": "2021-10-27T20:56:45.032684Z",
     "start_time": "2021-10-27T20:56:44.746440Z"
    }
   },
   "outputs": [],
   "source": [
    "fig.savefig(\"pows.png\", dpi=200)"
   ]
  },
  {
   "cell_type": "markdown",
   "id": "d1fc2772",
   "metadata": {},
   "source": [
    "Matplotlib also allows you to plot a surface plot using the function values at the grid points:"
   ]
  },
  {
   "cell_type": "code",
   "execution_count": null,
   "id": "ad2bf749",
   "metadata": {
    "ExecuteTime": {
     "end_time": "2021-10-27T20:56:45.044125Z",
     "start_time": "2021-10-27T20:56:45.035345Z"
    }
   },
   "outputs": [],
   "source": [
    "alpha = 0.7\n",
    "phi_ext = 2 * np.pi * 0.5\n",
    "\n",
    "def flux_qubit_potential(phi_m, phi_p):\n",
    "    return 2 + alpha - 2 * np.cos(phi_p) * np.cos(phi_m) - alpha * np.cos(phi_ext - 2*phi_p)\n",
    "\n",
    "phi_m = np.linspace(0, 2*np.pi, 100)\n",
    "phi_p = np.linspace(0, 2*np.pi, 100)\n",
    "X,Y = np.meshgrid(phi_p, phi_m)\n",
    "Z = flux_qubit_potential(X, Y).T"
   ]
  },
  {
   "cell_type": "code",
   "execution_count": null,
   "id": "f12367d6",
   "metadata": {
    "ExecuteTime": {
     "end_time": "2021-10-27T20:56:45.911182Z",
     "start_time": "2021-10-27T20:56:45.576821Z"
    }
   },
   "outputs": [],
   "source": [
    "fig = plt.figure(figsize=(14,6))\n",
    "ax = fig.add_subplot(111, projection='3d')\n",
    "p = ax.plot_surface(X, Y, Z, rstride=4, cstride=4, linewidth=0, cmap='jet')"
   ]
  },
  {
   "cell_type": "markdown",
   "id": "3dc7f139",
   "metadata": {},
   "source": [
    "Note, that Matplotlib allows you to use MANY OTHER TYPES of visualization, you can read more about them, for example, [here](http://matplotlib.org/gallery.html) or [here](http://nbviewer.jupyter.org/github/jrjohansson/scientific-python-lectures/blob/master/Lecture-4-Matplotlib.ipynb)."
   ]
  }
 ],
 "metadata": {
  "kernelspec": {
   "display_name": "Python 3 (ipykernel)",
   "language": "python",
   "name": "python3"
  },
  "language_info": {
   "codemirror_mode": {
    "name": "ipython",
    "version": 3
   },
   "file_extension": ".py",
   "mimetype": "text/x-python",
   "name": "python",
   "nbconvert_exporter": "python",
   "pygments_lexer": "ipython3",
   "version": "3.9.7"
  }
 },
 "nbformat": 4,
 "nbformat_minor": 5
}
